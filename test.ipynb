{
 "cells": [
  {
   "cell_type": "code",
   "execution_count": 2,
   "metadata": {},
   "outputs": [],
   "source": [
    "import nltk\n",
    "from nltk.tokenize import word_tokenize\n",
    "import json\n",
    "def token_lengths(text):\n",
    "    # 텍스트를 토큰으로 분리\n",
    "    tokens = word_tokenize(text)\n",
    "    # 각 토큰의 길이를 계산\n",
    "    lengths = sum(len(token) for token in tokens)\n",
    "    return lengths"
   ]
  },
  {
   "cell_type": "code",
   "execution_count": 6,
   "metadata": {},
   "outputs": [
    {
     "name": "stdout",
     "output_type": "stream",
     "text": [
      "2248\n"
     ]
    }
   ],
   "source": [
    "instruction = \"Here are examples.\\n\\n<Reference documents>\\nDocument 1 : Fred Olen Ray\\nFred Olen Ray (born September 10, 1954) is an American film director, producer, screenwriter, actor, and cinematographer.\\n\\nDocument 2 : R. G. Springsteen\\nRobert G. Springsteen (September 8, 1904 \\u2013 December 9, 1989) was an American director of Hollywood B movies and television shows.\\nHe was most often credited on screen as R. G. Springsteen.\\n\\n<Output format>\\n## Question : What profession do Fred Olen Ray and R. G. Springsteen have in common?\\n## Answer : director\\n## Supporting fact :\\nFred Olen Ray (born September 10, 1954) is an American film director, producer, screenwriter, actor, and cinematographer.\\nRobert G. Springsteen (September 8, 1904 \\u2013 December 9, 1989) was an American director of Hollywood B movies and television shows.\\n\\n<Reference documents>\\nDocument 1 : Holcus\\nHolcus (soft-grass or velvetgrass) is a genus of African and Eurasian plants in the oat tribe within the grass family.\\n\\nDocument 2 : Limonium\\nLimonium is a genus of 120 flowering plant species.\\nMembers are also known as sea-lavender, statice, caspia or marsh-rosemary.\\nDespite their common names, species are not related to the lavenders or to rosemary.\\nThey are instead in Plumbaginaceae, the plumbago or leadwort family.\\n\\n<Output format>\\n## Question : Do both Holcus and Limonium belong to the same taxonomic category?\\n## Answer : yes\\n## Supporting fact :\\nHolcus (soft-grass or velvetgrass) is a genus of African and Eurasian plants in the oat tribe within the grass family.\\nLimonium is a genus of 120 flowering plant species.\\n\\n<Reference documents>\\nDocument 1 : Wittrockia\\nWittrockia is a genus of the botanical family Bromeliaceae, subfamily Bromelioideae.\\n\\nDocument 2 : Aristotelia (plant)\\nAristotelia is a genus with 18 species, of tree in the family Elaeocarpaceae.\\nIt is named in honor of the Greek philosopher Aristoteles.\\n\\n<Output format>\\n## Question : To which taxonomic category do both Wittrockia and Aristotelia belong?\\n## Answer : genus\\n## Supporting fact :\\nWittrockia is a genus of the botanical family Bromeliaceae, subfamily Bromelioideae.\\nIt is named in honor of the Greek philosopher Aristoteles.\\n\\n<Instruction>\\nI would like to request you to make an answer for the following question. The answer should be searched from the reference documents (some of which might be irrelevant).\\nI also request you to provide supporting facts of the answer that is exactly extracted from the reference document. Supporting fact refers to a sentence that is necessary to infer the answer of the question. The number of supporting facts can be one or more.\\nPlease provide answer and supporting facts in the output format at the bottom.\"\n",
    "result = token_lengths(instruction)\n",
    "print(result)"
   ]
  },
  {
   "cell_type": "code",
   "execution_count": 7,
   "metadata": {},
   "outputs": [
    {
     "name": "stdout",
     "output_type": "stream",
     "text": [
      "Here is an example.\n",
      "\n",
      "<Output format>\n",
      "## Question : What profession do Fred Olen Ray and R. G. Springsteen have in common?\n",
      "## Answer : director\n",
      "## Supporting fact :\n",
      "Fred Olen Ray (born September 10, 1954) is an American film director, producer, screenwriter, actor, and cinematographer.\n",
      "Robert G. Springsteen (September 8, 1904 – December 9, 1989) was an American director of Hollywood B movies and television shows.\n",
      "\n",
      "<Instruction>\n",
      "I would like to request you to make an answer for the following question. The answer should be searched from the reference documents (some of which might be irrelevant).\n",
      "I also request you to provide supporting facts of the answer that is exactly extracted from the reference document. Supporting fact refers to a sentence that is necessary to infer the answer of the question. The number of supporting facts can be one or more.\n",
      "Please provide answer and supporting facts in the output format at the bottom.\n"
     ]
    }
   ],
   "source": [
    "print(\"Here is an example.\\n\\n<Output format>\\n## Question : What profession do Fred Olen Ray and R. G. Springsteen have in common?\\n## Answer : director\\n## Supporting fact :\\nFred Olen Ray (born September 10, 1954) is an American film director, producer, screenwriter, actor, and cinematographer.\\nRobert G. Springsteen (September 8, 1904 \\u2013 December 9, 1989) was an American director of Hollywood B movies and television shows.\\n\\n<Instruction>\\nI would like to request you to make an answer for the following question. The answer should be searched from the reference documents (some of which might be irrelevant).\\nI also request you to provide supporting facts of the answer that is exactly extracted from the reference document. Supporting fact refers to a sentence that is necessary to infer the answer of the question. The number of supporting facts can be one or more.\\nPlease provide answer and supporting facts in the output format at the bottom.\")"
   ]
  },
  {
   "cell_type": "code",
   "execution_count": 8,
   "metadata": {},
   "outputs": [
    {
     "name": "stdout",
     "output_type": "stream",
     "text": [
      "<Instruction>\n",
      "I would like to request you to make an answer for the following question. The answer should be searched from the reference documents (some of which might be irrelevant).\n",
      "I also request you to provide supporting facts of the answer that is exactly extracted from the reference document. Supporting fact refers to a sentence that is necessary to infer the answer of the question. The number of supporting facts can be one or more.\n",
      "Please provide answer and supporting facts in the output format at the bottom.\n"
     ]
    }
   ],
   "source": [
    "print(\"<Instruction>\\nI would like to request you to make an answer for the following question. The answer should be searched from the reference documents (some of which might be irrelevant).\\nI also request you to provide supporting facts of the answer that is exactly extracted from the reference document. Supporting fact refers to a sentence that is necessary to infer the answer of the question. The number of supporting facts can be one or more.\\nPlease provide answer and supporting facts in the output format at the bottom.\")"
   ]
  },
  {
   "cell_type": "code",
   "execution_count": 10,
   "metadata": {},
   "outputs": [
    {
     "name": "stdout",
     "output_type": "stream",
     "text": [
      "Here is an example.\n",
      "\n",
      "<Output format>\n",
      "## Question : What profession do Fred Olen Ray and R. G. Springsteen have in common?\n",
      "## Answer : director\n",
      "## Supporting fact :\n",
      "Fred Olen Ray (born September 10, 1954) is an American film director, producer, screenwriter, actor, and cinematographer.\n",
      "Robert G. Springsteen (September 8, 1904 – December 9, 1989) was an American director of Hollywood B movies and television shows.\n",
      "\n",
      "<Instruction>\n",
      "I would like to request you to make an answer for the following question.\n",
      "I also request you to provide supporting facts of the answer. Supporting fact refers to a sentence that is necessary to infer the answer of the question. The number of supporting facts can be one or more.\n",
      "Please provide answer and supporting facts in the output format at the bottom.\n"
     ]
    }
   ],
   "source": [
    "print(\"Here is an example.\\n\\n<Output format>\\n## Question : What profession do Fred Olen Ray and R. G. Springsteen have in common?\\n## Answer : director\\n## Supporting fact :\\nFred Olen Ray (born September 10, 1954) is an American film director, producer, screenwriter, actor, and cinematographer.\\nRobert G. Springsteen (September 8, 1904 \\u2013 December 9, 1989) was an American director of Hollywood B movies and television shows.\\n\\n<Instruction>\\nI would like to request you to make an answer for the following question.\\nI also request you to provide supporting facts of the answer. Supporting fact refers to a sentence that is necessary to infer the answer of the question. The number of supporting facts can be one or more.\\nPlease provide answer and supporting facts in the output format at the bottom.\")"
   ]
  },
  {
   "cell_type": "code",
   "execution_count": 11,
   "metadata": {},
   "outputs": [
    {
     "name": "stdout",
     "output_type": "stream",
     "text": [
      "Here are examples.\n",
      "\n",
      "<Output format>\n",
      "## Question : What profession do Fred Olen Ray and R. G. Springsteen have in common?\n",
      "## Answer : director\n",
      "## Supporting fact :\n",
      "Fred Olen Ray (born September 10, 1954) is an American film director, producer, screenwriter, actor, and cinematographer.\n",
      "Robert G. Springsteen (September 8, 1904 – December 9, 1989) was an American director of Hollywood B movies and television shows.\n",
      "\n",
      "<Output format>\n",
      "## Question : Do both Holcus and Limonium belong to the same taxonomic category?\n",
      "## Answer : yes\n",
      "## Supporting fact :\n",
      "Holcus (soft-grass or velvetgrass) is a genus of African and Eurasian plants in the oat tribe within the grass family.\n",
      "Limonium is a genus of 120 flowering plant species.\n",
      "\n",
      "<Instruction>\n",
      "I would like to request you to make an answer for the following question. The answer should be searched from the reference documents (some of which might be irrelevant).\n",
      "I also request you to provide supporting facts of the answer that is exactly extracted from the reference document. Supporting fact refers to a sentence that is necessary to infer the answer of the question. The number of supporting facts can be one or more.\n",
      "Please provide answer and supporting facts in the output format at the bottom.\n"
     ]
    }
   ],
   "source": [
    "print(\"Here are examples.\\n\\n<Output format>\\n## Question : What profession do Fred Olen Ray and R. G. Springsteen have in common?\\n## Answer : director\\n## Supporting fact :\\nFred Olen Ray (born September 10, 1954) is an American film director, producer, screenwriter, actor, and cinematographer.\\nRobert G. Springsteen (September 8, 1904 \\u2013 December 9, 1989) was an American director of Hollywood B movies and television shows.\\n\\n<Output format>\\n## Question : Do both Holcus and Limonium belong to the same taxonomic category?\\n## Answer : yes\\n## Supporting fact :\\nHolcus (soft-grass or velvetgrass) is a genus of African and Eurasian plants in the oat tribe within the grass family.\\nLimonium is a genus of 120 flowering plant species.\\n\\n<Instruction>\\nI would like to request you to make an answer for the following question. The answer should be searched from the reference documents (some of which might be irrelevant).\\nI also request you to provide supporting facts of the answer that is exactly extracted from the reference document. Supporting fact refers to a sentence that is necessary to infer the answer of the question. The number of supporting facts can be one or more.\\nPlease provide answer and supporting facts in the output format at the bottom.\")"
   ]
  },
  {
   "cell_type": "code",
   "execution_count": 12,
   "metadata": {},
   "outputs": [
    {
     "name": "stdout",
     "output_type": "stream",
     "text": [
      "Here are examples.\n",
      "\n",
      "<Output format>\n",
      "## Question : What profession do Fred Olen Ray and R. G. Springsteen have in common?\n",
      "## Answer : director\n",
      "## Supporting fact :\n",
      "Fred Olen Ray (born September 10, 1954) is an American film director, producer, screenwriter, actor, and cinematographer.\n",
      "Robert G. Springsteen (September 8, 1904 – December 9, 1989) was an American director of Hollywood B movies and television shows.\n",
      "\n",
      "<Output format>\n",
      "## Question : Do both Holcus and Limonium belong to the same taxonomic category?\n",
      "## Answer : yes\n",
      "## Supporting fact :\n",
      "Holcus (soft-grass or velvetgrass) is a genus of African and Eurasian plants in the oat tribe within the grass family.\n",
      "Limonium is a genus of 120 flowering plant species.\n",
      "\n",
      "<Output format>\n",
      "## Question : To which taxonomic category do both Wittrockia and Aristotelia belong?\n",
      "## Answer : genus\n",
      "## Supporting fact :\n",
      "Wittrockia is a genus of the botanical family Bromeliaceae, subfamily Bromelioideae.\n",
      "It is named in honor of the Greek philosopher Aristoteles.\n",
      "\n",
      "<Instruction>\n",
      "I would like to request you to make an answer for the following question.\n",
      "I also request you to provide supporting facts of the answer. Supporting fact refers to a sentence that is necessary to infer the answer of the question. The number of supporting facts can be one or more.\n",
      "Please provide answer and supporting facts in the output format at the bottom.\n"
     ]
    }
   ],
   "source": [
    "print(\"Here are examples.\\n\\n<Output format>\\n## Question : What profession do Fred Olen Ray and R. G. Springsteen have in common?\\n## Answer : director\\n## Supporting fact :\\nFred Olen Ray (born September 10, 1954) is an American film director, producer, screenwriter, actor, and cinematographer.\\nRobert G. Springsteen (September 8, 1904 \\u2013 December 9, 1989) was an American director of Hollywood B movies and television shows.\\n\\n<Output format>\\n## Question : Do both Holcus and Limonium belong to the same taxonomic category?\\n## Answer : yes\\n## Supporting fact :\\nHolcus (soft-grass or velvetgrass) is a genus of African and Eurasian plants in the oat tribe within the grass family.\\nLimonium is a genus of 120 flowering plant species.\\n\\n<Output format>\\n## Question : To which taxonomic category do both Wittrockia and Aristotelia belong?\\n## Answer : genus\\n## Supporting fact :\\nWittrockia is a genus of the botanical family Bromeliaceae, subfamily Bromelioideae.\\nIt is named in honor of the Greek philosopher Aristoteles.\\n\\n<Instruction>\\nI would like to request you to make an answer for the following question.\\nI also request you to provide supporting facts of the answer. Supporting fact refers to a sentence that is necessary to infer the answer of the question. The number of supporting facts can be one or more.\\nPlease provide answer and supporting facts in the output format at the bottom.\")"
   ]
  },
  {
   "cell_type": "code",
   "execution_count": null,
   "metadata": {},
   "outputs": [],
   "source": []
  }
 ],
 "metadata": {
  "kernelspec": {
   "display_name": "pythontest",
   "language": "python",
   "name": "python3"
  },
  "language_info": {
   "codemirror_mode": {
    "name": "ipython",
    "version": 3
   },
   "file_extension": ".py",
   "mimetype": "text/x-python",
   "name": "python",
   "nbconvert_exporter": "python",
   "pygments_lexer": "ipython3",
   "version": "3.12.2"
  }
 },
 "nbformat": 4,
 "nbformat_minor": 2
}
