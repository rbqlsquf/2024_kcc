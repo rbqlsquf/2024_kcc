{
 "cells": [
  {
   "cell_type": "code",
   "execution_count": 3,
   "metadata": {},
   "outputs": [
    {
     "name": "stdout",
     "output_type": "stream",
     "text": [
      "Here is an example.\n",
      "\n",
      "<Reference documents>\n",
      "Document 1 : Fred Olen Ray\n",
      "[1] Fred Olen Ray (born September 10, 1954) is an American film director, producer, screenwriter, actor, and cinematographer.\n",
      "\n",
      "Document 2 : Biohazard (film)\n",
      "[2] Biohazard is a 1985 science-fiction horror film directed by Fred Olen Ray and starring Aldo Ray and Angelique Pettyjohn.\n",
      "\n",
      "Document 3 : Bikini Cavegirl\n",
      "[3] Bikini Cavegirl (also known as Teenage Cavegirl) is a softcore pornographic film made by Fred Olen Ray under the pseudonyms \"Nicholas Medina\" and \"Sherman Scott\".\n",
      "[4]  It has been described as \"a sexy makeover\", but not a remake, of Ray's earlier film, \"Dinosaur Island\".\n",
      "[5]  It was released directly to video in 2004 under the title \"Teenage Cavegirl\", and is shown on cable as \"Bikini Cavegirl\".\n",
      "\n",
      "Document 4 : Alien Dead\n",
      "[6] The Alien Dead is a 1980 American horror film directed by Fred Olen Ray.\n",
      "[7]  Ray co-wrote the script with Martin Nicholas.\n",
      "\n",
      "Document 5 : The Brain Leeches\n",
      "[8] The Brain Leeches is a 1978 sci-fi film directed by Fred Olen Ray and starring Paul Jones, Marcia Scott & Ray Starr.\n",
      "\n",
      "Document 6 : Mom's Outta Sight\n",
      "[9] Mom's Outta Sight is a 1998 American film, starring Hannes Jaenicke, Mary Elizabeth McGlynn and Harrison Myers.\n",
      "[10]  It was directed by Fred Olen Ray and written by Sean O'Bannon.\n",
      "\n",
      "Document 7 : R. G. Springsteen\n",
      "[11] Robert G. Springsteen (September 8, 1904 – December 9, 1989) was an American director of Hollywood B movies and television shows.\n",
      "[12]  He was most often credited on screen as R. G. Springsteen.\n",
      "\n",
      "Document 8 : Billy Frankenstein\n",
      "[13] Billy Frankenstein is a 1998 horror-comedy movie directed by Fred Olen Ray and written by his wife Kim Ray.\n",
      "\n",
      "Document 9 : The Twin (2017 film)\n",
      "[14] The Twin is a horror TV movie directed by Fred Olen Ray and Max Derin, starring Brigid Brannagh and Louis Mandylor.\n",
      "[15]  It premiered on Lifetime on January 6, 2017.\n",
      "\n",
      "Document 10 : Inferno (1997 film)\n",
      "[16] Inferno (also released with the title, Operation Cobra) is a 1997 feature film directed by Fred Olen Ray starring Don Wilson, Deepti Bhatnagar and R. Madhavan.\n",
      "[17]  Evan Lurie, Michael Cavanaugh and Tané McClure appear in other pivotal roles.\n",
      "[18]  Wilson plays the role of Interpol agent Kyle Connors on a mission set in India.\n",
      "\n",
      "\n",
      "## Question : What profession do Fred Olen Ray and R. G. Springsteen have in common?\n",
      "\n",
      "<Output format>\n",
      "## Answer : director\n",
      "## Supporting facts : 1, 11\n",
      "\n",
      "<Instruction>\n",
      "I would like to request you to make an answer for the following question. The answer should be searched from the reference documents (some of which might be irrelevant).\n",
      "I also request you to provide the index of supporting facts of the answer. Supporting fact refers to a sentence that is necessary to infer the answer of the question. The number of supporting facts can be one or more.\n",
      "Please provide answer and supporting fact index in the output format at the bottom.\n"
     ]
    }
   ],
   "source": [
    "print('Here is an example.\\n\\n<Reference documents>\\nDocument 1 : Fred Olen Ray\\n[1] Fred Olen Ray (born September 10, 1954) is an American film director, producer, screenwriter, actor, and cinematographer.\\n\\nDocument 2 : Biohazard (film)\\n[2] Biohazard is a 1985 science-fiction horror film directed by Fred Olen Ray and starring Aldo Ray and Angelique Pettyjohn.\\n\\nDocument 3 : Bikini Cavegirl\\n[3] Bikini Cavegirl (also known as Teenage Cavegirl) is a softcore pornographic film made by Fred Olen Ray under the pseudonyms \"Nicholas Medina\" and \"Sherman Scott\".\\n[4]  It has been described as \"a sexy makeover\", but not a remake, of Ray\\'s earlier film, \"Dinosaur Island\".\\n[5]  It was released directly to video in 2004 under the title \"Teenage Cavegirl\", and is shown on cable as \"Bikini Cavegirl\".\\n\\nDocument 4 : Alien Dead\\n[6] The Alien Dead is a 1980 American horror film directed by Fred Olen Ray.\\n[7]  Ray co-wrote the script with Martin Nicholas.\\n\\nDocument 5 : The Brain Leeches\\n[8] The Brain Leeches is a 1978 sci-fi film directed by Fred Olen Ray and starring Paul Jones, Marcia Scott & Ray Starr.\\n\\nDocument 6 : Mom\\'s Outta Sight\\n[9] Mom\\'s Outta Sight is a 1998 American film, starring Hannes Jaenicke, Mary Elizabeth McGlynn and Harrison Myers.\\n[10]  It was directed by Fred Olen Ray and written by Sean O\\'Bannon.\\n\\nDocument 7 : R. G. Springsteen\\n[11] Robert G. Springsteen (September 8, 1904 – December 9, 1989) was an American director of Hollywood B movies and television shows.\\n[12]  He was most often credited on screen as R. G. Springsteen.\\n\\nDocument 8 : Billy Frankenstein\\n[13] Billy Frankenstein is a 1998 horror-comedy movie directed by Fred Olen Ray and written by his wife Kim Ray.\\n\\nDocument 9 : The Twin (2017 film)\\n[14] The Twin is a horror TV movie directed by Fred Olen Ray and Max Derin, starring Brigid Brannagh and Louis Mandylor.\\n[15]  It premiered on Lifetime on January 6, 2017.\\n\\nDocument 10 : Inferno (1997 film)\\n[16] Inferno (also released with the title, Operation Cobra) is a 1997 feature film directed by Fred Olen Ray starring Don Wilson, Deepti Bhatnagar and R. Madhavan.\\n[17]  Evan Lurie, Michael Cavanaugh and Tané McClure appear in other pivotal roles.\\n[18]  Wilson plays the role of Interpol agent Kyle Connors on a mission set in India.\\n\\n\\n## Question : What profession do Fred Olen Ray and R. G. Springsteen have in common?\\n\\n<Output format>\\n## Answer : director\\n## Supporting facts : 1, 11\\n\\n<Instruction>\\nI would like to request you to make an answer for the following question. The answer should be searched from the reference documents (some of which might be irrelevant).\\nI also request you to provide the index of supporting facts of the answer. Supporting fact refers to a sentence that is necessary to infer the answer of the question. The number of supporting facts can be one or more.\\nPlease provide answer and supporting fact index in the output format at the bottom.')"
   ]
  },
  {
   "cell_type": "code",
   "execution_count": 4,
   "metadata": {},
   "outputs": [
    {
     "name": "stdout",
     "output_type": "stream",
     "text": [
      "<Reference documents>\n",
      "Reference documents below consist of title and sentences with sentence index at the front.\n",
      "\n",
      "Document 1 : Veitchia spiralis\n",
      "[1] Veitchia spiralis is a species of flowering plant in the Arecaceae family.\n",
      "\n",
      "Document 2 : Veitchia filifera\n",
      "[2] Veitchia filifera is a species of flowering plant in the Arecaceae family.\n",
      "\n",
      "Document 3 : Veitchia vitiensis\n",
      "[3] Veitchia vitiensis is a species of flowering plant in the Arecaceae family.\n",
      "\n",
      "Document 4 : Veitchia arecina\n",
      "[4] Veitchia arecina , common name \"Montgomery Palm\" is a species of flowering plant in the Arecaceae family.\n",
      "[5]  It grows to between 25' to 35' (7.60m to 10.60m) and has white or yellow blooms.\n",
      "\n",
      "Document 5 : Lamium\n",
      "[6] Lamium (dead-nettles) is a genus of about 40–50 species of flowering plants in the family Lamiaceae, of which it is the type genus.\n",
      "[7]  They are all herbaceous plants native to Europe, Asia, and northern Africa, but several have become very successful weeds of crop fields and are now widely naturalised across much of the temperate world.\n",
      "\n",
      "Document 6 : Veitchia\n",
      "[8] Veitchia is a genus of flowering plant in the Arecaceae family.\n",
      "\n",
      "Document 7 : Veitchia winin\n",
      "[9] Veitchia winin is a species of flowering plant in the Arecaceae family.\n",
      "\n",
      "Document 8 : Veitchia joannis\n",
      "[10] Veitchia joannis, or the Joannis palm, is a species of flowering plant in the Arecaceae family.\n",
      "\n",
      "Document 9 : Veitchia metiti\n",
      "[11] Veitchia metiti is a species of flowering plant in the Arecaceae family.\n",
      "\n",
      "Document 10 : Veitchia simulans\n",
      "[12] Veitchia simulans is a species of flowering plant in the Arecaceae family.\n",
      "\n",
      "\n",
      "\n",
      "<Output format>\n",
      "## Question : Veitchia is a flowering plan from the Arecaceae family, what family is the Lamium plant from?\n",
      "## Answer : \n",
      "## Supporting fact index : \n"
     ]
    }
   ],
   "source": [
    "print(\"<Reference documents>\\nReference documents below consist of title and sentences with sentence index at the front.\\n\\nDocument 1 : Veitchia spiralis\\n[1] Veitchia spiralis is a species of flowering plant in the Arecaceae family.\\n\\nDocument 2 : Veitchia filifera\\n[2] Veitchia filifera is a species of flowering plant in the Arecaceae family.\\n\\nDocument 3 : Veitchia vitiensis\\n[3] Veitchia vitiensis is a species of flowering plant in the Arecaceae family.\\n\\nDocument 4 : Veitchia arecina\\n[4] Veitchia arecina , common name \\\"Montgomery Palm\\\" is a species of flowering plant in the Arecaceae family.\\n[5]  It grows to between 25' to 35' (7.60m to 10.60m) and has white or yellow blooms.\\n\\nDocument 5 : Lamium\\n[6] Lamium (dead-nettles) is a genus of about 40–50 species of flowering plants in the family Lamiaceae, of which it is the type genus.\\n[7]  They are all herbaceous plants native to Europe, Asia, and northern Africa, but several have become very successful weeds of crop fields and are now widely naturalised across much of the temperate world.\\n\\nDocument 6 : Veitchia\\n[8] Veitchia is a genus of flowering plant in the Arecaceae family.\\n\\nDocument 7 : Veitchia winin\\n[9] Veitchia winin is a species of flowering plant in the Arecaceae family.\\n\\nDocument 8 : Veitchia joannis\\n[10] Veitchia joannis, or the Joannis palm, is a species of flowering plant in the Arecaceae family.\\n\\nDocument 9 : Veitchia metiti\\n[11] Veitchia metiti is a species of flowering plant in the Arecaceae family.\\n\\nDocument 10 : Veitchia simulans\\n[12] Veitchia simulans is a species of flowering plant in the Arecaceae family.\\n\\n\\n\\n<Output format>\\n## Question : Veitchia is a flowering plan from the Arecaceae family, what family is the Lamium plant from?\\n## Answer : \\n## Supporting fact index : \")"
   ]
  },
  {
   "cell_type": "code",
   "execution_count": 7,
   "metadata": {},
   "outputs": [
    {
     "name": "stdout",
     "output_type": "stream",
     "text": [
      "Here is an example.\n",
      "\n",
      "<Reference documents>\n",
      "Document 1 : Fred Olen Ray\n",
      "[1] Fred Olen Ray (born September 10, 1954) is an American film director, producer, screenwriter, actor, and cinematographer.\n",
      "\n",
      "Document 2 : R. G. Springsteen\n",
      "[2] Robert G. Springsteen (September 8, 1904 – December 9, 1989) was an American director of Hollywood B movies and television shows.\n",
      "[3]  He was most often credited on screen as R. G. Springsteen.\n",
      "\n",
      "<Output format>\n",
      "## Question : What profession do Fred Olen Ray and R. G. Springsteen have in common?\n",
      "## Answer : director\n",
      "## Supporting fact index : 1, 2\n",
      "\n",
      "<Instruction>\n",
      "I would like to request you to make an answer for the following question. The answer should be searched from the reference documents (some of which might be irrelevant).\n",
      "I also request you to provide the index of supporting facts of the answer. Supporting fact refers to a sentence that is necessary to infer the answer of the question. The number of supporting facts can be one or more.\n",
      "Please provide answer and supporting fact index in the output format at the bottom.\n"
     ]
    }
   ],
   "source": [
    "print(\"Here is an example.\\n\\n<Reference documents>\\nDocument 1 : Fred Olen Ray\\n[1] Fred Olen Ray (born September 10, 1954) is an American film director, producer, screenwriter, actor, and cinematographer.\\n\\nDocument 2 : R. G. Springsteen\\n[2] Robert G. Springsteen (September 8, 1904 – December 9, 1989) was an American director of Hollywood B movies and television shows.\\n[3]  He was most often credited on screen as R. G. Springsteen.\\n\\n<Output format>\\n## Question : What profession do Fred Olen Ray and R. G. Springsteen have in common?\\n## Answer : director\\n## Supporting fact index : 1, 2\\n\\n<Instruction>\\nI would like to request you to make an answer for the following question. The answer should be searched from the reference documents (some of which might be irrelevant).\\nI also request you to provide the index of supporting facts of the answer. Supporting fact refers to a sentence that is necessary to infer the answer of the question. The number of supporting facts can be one or more.\\nPlease provide answer and supporting fact index in the output format at the bottom.\")"
   ]
  },
  {
   "cell_type": "code",
   "execution_count": null,
   "metadata": {},
   "outputs": [],
   "source": []
  }
 ],
 "metadata": {
  "kernelspec": {
   "display_name": "pythontest",
   "language": "python",
   "name": "python3"
  },
  "language_info": {
   "codemirror_mode": {
    "name": "ipython",
    "version": 3
   },
   "file_extension": ".py",
   "mimetype": "text/x-python",
   "name": "python",
   "nbconvert_exporter": "python",
   "pygments_lexer": "ipython3",
   "version": "3.8.16"
  }
 },
 "nbformat": 4,
 "nbformat_minor": 2
}
