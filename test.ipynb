{
 "cells": [
  {
   "cell_type": "code",
   "execution_count": 3,
   "metadata": {},
   "outputs": [
    {
     "name": "stdout",
     "output_type": "stream",
     "text": [
      "Here is an example.\n",
      "\n",
      "<Reference documents>\n",
      "Document 1 : Fred Olen Ray\n",
      "[1] Fred Olen Ray (born September 10, 1954) is an American film director, producer, screenwriter, actor, and cinematographer.\n",
      "\n",
      "Document 2 : Biohazard (film)\n",
      "[2] Biohazard is a 1985 science-fiction horror film directed by Fred Olen Ray and starring Aldo Ray and Angelique Pettyjohn.\n",
      "\n",
      "Document 3 : Bikini Cavegirl\n",
      "[3] Bikini Cavegirl (also known as Teenage Cavegirl) is a softcore pornographic film made by Fred Olen Ray under the pseudonyms \"Nicholas Medina\" and \"Sherman Scott\".\n",
      "[4]  It has been described as \"a sexy makeover\", but not a remake, of Ray's earlier film, \"Dinosaur Island\".\n",
      "[5]  It was released directly to video in 2004 under the title \"Teenage Cavegirl\", and is shown on cable as \"Bikini Cavegirl\".\n",
      "\n",
      "Document 4 : Alien Dead\n",
      "[6] The Alien Dead is a 1980 American horror film directed by Fred Olen Ray.\n",
      "[7]  Ray co-wrote the script with Martin Nicholas.\n",
      "\n",
      "Document 5 : The Brain Leeches\n",
      "[8] The Brain Leeches is a 1978 sci-fi film directed by Fred Olen Ray and starring Paul Jones, Marcia Scott & Ray Starr.\n",
      "\n",
      "Document 6 : Mom's Outta Sight\n",
      "[9] Mom's Outta Sight is a 1998 American film, starring Hannes Jaenicke, Mary Elizabeth McGlynn and Harrison Myers.\n",
      "[10]  It was directed by Fred Olen Ray and written by Sean O'Bannon.\n",
      "\n",
      "Document 7 : R. G. Springsteen\n",
      "[11] Robert G. Springsteen (September 8, 1904 – December 9, 1989) was an American director of Hollywood B movies and television shows.\n",
      "[12]  He was most often credited on screen as R. G. Springsteen.\n",
      "\n",
      "Document 8 : Billy Frankenstein\n",
      "[13] Billy Frankenstein is a 1998 horror-comedy movie directed by Fred Olen Ray and written by his wife Kim Ray.\n",
      "\n",
      "Document 9 : The Twin (2017 film)\n",
      "[14] The Twin is a horror TV movie directed by Fred Olen Ray and Max Derin, starring Brigid Brannagh and Louis Mandylor.\n",
      "[15]  It premiered on Lifetime on January 6, 2017.\n",
      "\n",
      "Document 10 : Inferno (1997 film)\n",
      "[16] Inferno (also released with the title, Operation Cobra) is a 1997 feature film directed by Fred Olen Ray starring Don Wilson, Deepti Bhatnagar and R. Madhavan.\n",
      "[17]  Evan Lurie, Michael Cavanaugh and Tané McClure appear in other pivotal roles.\n",
      "[18]  Wilson plays the role of Interpol agent Kyle Connors on a mission set in India.\n",
      "\n",
      "\n",
      "## Question : What profession do Fred Olen Ray and R. G. Springsteen have in common?\n",
      "\n",
      "<Output format>\n",
      "## Answer : director\n",
      "## Supporting facts : 1, 11\n",
      "\n",
      "<Instruction>\n",
      "I would like to request you to make an answer for the following question. The answer should be searched from the reference documents (some of which might be irrelevant).\n",
      "I also request you to provide the index of supporting facts of the answer. Supporting fact refers to a sentence that is necessary to infer the answer of the question. The number of supporting facts can be one or more.\n",
      "Please provide answer and supporting fact index in the output format at the bottom.\n"
     ]
    }
   ],
   "source": [
    "print('Here is an example.\\n\\n<Reference documents>\\nDocument 1 : Fred Olen Ray\\n[1] Fred Olen Ray (born September 10, 1954) is an American film director, producer, screenwriter, actor, and cinematographer.\\n\\nDocument 2 : Biohazard (film)\\n[2] Biohazard is a 1985 science-fiction horror film directed by Fred Olen Ray and starring Aldo Ray and Angelique Pettyjohn.\\n\\nDocument 3 : Bikini Cavegirl\\n[3] Bikini Cavegirl (also known as Teenage Cavegirl) is a softcore pornographic film made by Fred Olen Ray under the pseudonyms \"Nicholas Medina\" and \"Sherman Scott\".\\n[4]  It has been described as \"a sexy makeover\", but not a remake, of Ray\\'s earlier film, \"Dinosaur Island\".\\n[5]  It was released directly to video in 2004 under the title \"Teenage Cavegirl\", and is shown on cable as \"Bikini Cavegirl\".\\n\\nDocument 4 : Alien Dead\\n[6] The Alien Dead is a 1980 American horror film directed by Fred Olen Ray.\\n[7]  Ray co-wrote the script with Martin Nicholas.\\n\\nDocument 5 : The Brain Leeches\\n[8] The Brain Leeches is a 1978 sci-fi film directed by Fred Olen Ray and starring Paul Jones, Marcia Scott & Ray Starr.\\n\\nDocument 6 : Mom\\'s Outta Sight\\n[9] Mom\\'s Outta Sight is a 1998 American film, starring Hannes Jaenicke, Mary Elizabeth McGlynn and Harrison Myers.\\n[10]  It was directed by Fred Olen Ray and written by Sean O\\'Bannon.\\n\\nDocument 7 : R. G. Springsteen\\n[11] Robert G. Springsteen (September 8, 1904 – December 9, 1989) was an American director of Hollywood B movies and television shows.\\n[12]  He was most often credited on screen as R. G. Springsteen.\\n\\nDocument 8 : Billy Frankenstein\\n[13] Billy Frankenstein is a 1998 horror-comedy movie directed by Fred Olen Ray and written by his wife Kim Ray.\\n\\nDocument 9 : The Twin (2017 film)\\n[14] The Twin is a horror TV movie directed by Fred Olen Ray and Max Derin, starring Brigid Brannagh and Louis Mandylor.\\n[15]  It premiered on Lifetime on January 6, 2017.\\n\\nDocument 10 : Inferno (1997 film)\\n[16] Inferno (also released with the title, Operation Cobra) is a 1997 feature film directed by Fred Olen Ray starring Don Wilson, Deepti Bhatnagar and R. Madhavan.\\n[17]  Evan Lurie, Michael Cavanaugh and Tané McClure appear in other pivotal roles.\\n[18]  Wilson plays the role of Interpol agent Kyle Connors on a mission set in India.\\n\\n\\n## Question : What profession do Fred Olen Ray and R. G. Springsteen have in common?\\n\\n<Output format>\\n## Answer : director\\n## Supporting facts : 1, 11\\n\\n<Instruction>\\nI would like to request you to make an answer for the following question. The answer should be searched from the reference documents (some of which might be irrelevant).\\nI also request you to provide the index of supporting facts of the answer. Supporting fact refers to a sentence that is necessary to infer the answer of the question. The number of supporting facts can be one or more.\\nPlease provide answer and supporting fact index in the output format at the bottom.')"
   ]
  },
  {
   "cell_type": "code",
   "execution_count": 1,
   "metadata": {},
   "outputs": [
    {
     "name": "stdout",
     "output_type": "stream",
     "text": [
      "Here are examples.\n",
      "\n",
      "<Reference documents>\n",
      "Document 1 : Fred Olen Ray\n",
      "Fred Olen Ray (born September 10, 1954) is an American film director, producer, screenwriter, actor, and cinematographer.\n",
      "\n",
      "Document 2 : R. G. Springsteen\n",
      "Robert G. Springsteen (September 8, 1904 – December 9, 1989) was an American director of Hollywood B movies and television shows.\n",
      "He was most often credited on screen as R. G. Springsteen.\n",
      "\n",
      "<Output format>\n",
      "## Question : What profession do Fred Olen Ray and R. G. Springsteen have in common?\n",
      "## Answer : director\n",
      "## Supporting fact :\n",
      "Fred Olen Ray (born September 10, 1954) is an American film director, producer, screenwriter, actor, and cinematographer.\n",
      "Robert G. Springsteen (September 8, 1904 – December 9, 1989) was an American director of Hollywood B movies and television shows.\n",
      "\n",
      "<Reference documents>\n",
      "Document 1 : Holcus\n",
      "Holcus (soft-grass or velvetgrass) is a genus of African and Eurasian plants in the oat tribe within the grass family.\n",
      "\n",
      "Document 2 : Limonium\n",
      "Limonium is a genus of 120 flowering plant species.\n",
      "Members are also known as sea-lavender, statice, caspia or marsh-rosemary.\n",
      "Despite their common names, species are not related to the lavenders or to rosemary.\n",
      "They are instead in Plumbaginaceae, the plumbago or leadwort family.\n",
      "\n",
      "<Output format>\n",
      "## Question : Do both Holcus and Limonium belong to the same taxonomic category?\n",
      "## Answer : yes\n",
      "## Supporting fact :\n",
      "Holcus (soft-grass or velvetgrass) is a genus of African and Eurasian plants in the oat tribe within the grass family.\n",
      "Limonium is a genus of 120 flowering plant species.\n",
      "\n",
      "<Instruction>\n",
      "I would like to request you to make an answer for the following question. The answer should be searched from the reference documents (some of which might be irrelevant).\n",
      "I also request you to provide supporting facts of the answer that is exactly extracted from the reference document. Supporting fact refers to a sentence that is necessary to infer the answer of the question. The number of supporting facts can be one or more.\n",
      "Please provide answer and supporting facts in the output format at the bottom.\n"
     ]
    }
   ],
   "source": [
    "print(\"Here are examples.\\n\\n<Reference documents>\\nDocument 1 : Fred Olen Ray\\nFred Olen Ray (born September 10, 1954) is an American film director, producer, screenwriter, actor, and cinematographer.\\n\\nDocument 2 : R. G. Springsteen\\nRobert G. Springsteen (September 8, 1904 \\u2013 December 9, 1989) was an American director of Hollywood B movies and television shows.\\nHe was most often credited on screen as R. G. Springsteen.\\n\\n<Output format>\\n## Question : What profession do Fred Olen Ray and R. G. Springsteen have in common?\\n## Answer : director\\n## Supporting fact :\\nFred Olen Ray (born September 10, 1954) is an American film director, producer, screenwriter, actor, and cinematographer.\\nRobert G. Springsteen (September 8, 1904 \\u2013 December 9, 1989) was an American director of Hollywood B movies and television shows.\\n\\n<Reference documents>\\nDocument 1 : Holcus\\nHolcus (soft-grass or velvetgrass) is a genus of African and Eurasian plants in the oat tribe within the grass family.\\n\\nDocument 2 : Limonium\\nLimonium is a genus of 120 flowering plant species.\\nMembers are also known as sea-lavender, statice, caspia or marsh-rosemary.\\nDespite their common names, species are not related to the lavenders or to rosemary.\\nThey are instead in Plumbaginaceae, the plumbago or leadwort family.\\n\\n<Output format>\\n## Question : Do both Holcus and Limonium belong to the same taxonomic category?\\n## Answer : yes\\n## Supporting fact :\\nHolcus (soft-grass or velvetgrass) is a genus of African and Eurasian plants in the oat tribe within the grass family.\\nLimonium is a genus of 120 flowering plant species.\\n\\n<Instruction>\\nI would like to request you to make an answer for the following question. The answer should be searched from the reference documents (some of which might be irrelevant).\\nI also request you to provide supporting facts of the answer that is exactly extracted from the reference document. Supporting fact refers to a sentence that is necessary to infer the answer of the question. The number of supporting facts can be one or more.\\nPlease provide answer and supporting facts in the output format at the bottom.\")"
   ]
  },
  {
   "cell_type": "code",
   "execution_count": 7,
   "metadata": {},
   "outputs": [
    {
     "name": "stdout",
     "output_type": "stream",
     "text": [
      "Here is an example.\n",
      "\n",
      "<Reference documents>\n",
      "Document 1 : Fred Olen Ray\n",
      "[1] Fred Olen Ray (born September 10, 1954) is an American film director, producer, screenwriter, actor, and cinematographer.\n",
      "\n",
      "Document 2 : R. G. Springsteen\n",
      "[2] Robert G. Springsteen (September 8, 1904 – December 9, 1989) was an American director of Hollywood B movies and television shows.\n",
      "[3]  He was most often credited on screen as R. G. Springsteen.\n",
      "\n",
      "<Output format>\n",
      "## Question : What profession do Fred Olen Ray and R. G. Springsteen have in common?\n",
      "## Answer : director\n",
      "## Supporting fact index : 1, 2\n",
      "\n",
      "<Instruction>\n",
      "I would like to request you to make an answer for the following question. The answer should be searched from the reference documents (some of which might be irrelevant).\n",
      "I also request you to provide the index of supporting facts of the answer. Supporting fact refers to a sentence that is necessary to infer the answer of the question. The number of supporting facts can be one or more.\n",
      "Please provide answer and supporting fact index in the output format at the bottom.\n"
     ]
    }
   ],
   "source": [
    "print(\"Here is an example.\\n\\n<Reference documents>\\nDocument 1 : Fred Olen Ray\\n[1] Fred Olen Ray (born September 10, 1954) is an American film director, producer, screenwriter, actor, and cinematographer.\\n\\nDocument 2 : R. G. Springsteen\\n[2] Robert G. Springsteen (September 8, 1904 – December 9, 1989) was an American director of Hollywood B movies and television shows.\\n[3]  He was most often credited on screen as R. G. Springsteen.\\n\\n<Output format>\\n## Question : What profession do Fred Olen Ray and R. G. Springsteen have in common?\\n## Answer : director\\n## Supporting fact index : 1, 2\\n\\n<Instruction>\\nI would like to request you to make an answer for the following question. The answer should be searched from the reference documents (some of which might be irrelevant).\\nI also request you to provide the index of supporting facts of the answer. Supporting fact refers to a sentence that is necessary to infer the answer of the question. The number of supporting facts can be one or more.\\nPlease provide answer and supporting fact index in the output format at the bottom.\")"
   ]
  },
  {
   "cell_type": "code",
   "execution_count": 2,
   "metadata": {},
   "outputs": [
    {
     "name": "stdout",
     "output_type": "stream",
     "text": [
      "Here are examples.\n",
      "\n",
      "<Reference documents>\n",
      "Document 1 : Fred Olen Ray\n",
      "Fred Olen Ray (born September 10, 1954) is an American film director, producer, screenwriter, actor, and cinematographer.\n",
      "\n",
      "Document 2 : R. G. Springsteen\n",
      "Robert G. Springsteen (September 8, 1904 – December 9, 1989) was an American director of Hollywood B movies and television shows.\n",
      "He was most often credited on screen as R. G. Springsteen.\n",
      "\n",
      "<Output format>\n",
      "## Question : What profession do Fred Olen Ray and R. G. Springsteen have in common?\n",
      "## Answer : director\n",
      "## Supporting fact :\n",
      "Fred Olen Ray (born September 10, 1954) is an American film director, producer, screenwriter, actor, and cinematographer.\n",
      "Robert G. Springsteen (September 8, 1904 – December 9, 1989) was an American director of Hollywood B movies and television shows.\n",
      "\n",
      "<Reference documents>\n",
      "Document 1 : Holcus\n",
      "Holcus (soft-grass or velvetgrass) is a genus of African and Eurasian plants in the oat tribe within the grass family.\n",
      "\n",
      "Document 2 : Limonium\n",
      "Limonium is a genus of 120 flowering plant species.\n",
      "Members are also known as sea-lavender, statice, caspia or marsh-rosemary.\n",
      "Despite their common names, species are not related to the lavenders or to rosemary.\n",
      "They are instead in Plumbaginaceae, the plumbago or leadwort family.\n",
      "\n",
      "<Output format>\n",
      "## Question : Do both Holcus and Limonium belong to the same taxonomic category?\n",
      "## Answer : yes\n",
      "## Supporting fact :\n",
      "Holcus (soft-grass or velvetgrass) is a genus of African and Eurasian plants in the oat tribe within the grass family.\n",
      "Limonium is a genus of 120 flowering plant species.\n",
      "\n",
      "<Instruction>\n",
      "I would like to request you to make an answer for the following question. The answer should be searched from the reference documents (some of which might be irrelevant).\n",
      "I also request you to provide supporting facts of the answer that is exactly extracted from the reference document. Supporting fact refers to a sentence that is necessary to infer the answer of the question. The number of supporting facts can be one or more.\n",
      "Please provide answer and supporting facts in the output format at the bottom.\n"
     ]
    }
   ],
   "source": [
    "print(\"Here are examples.\\n\\n<Reference documents>\\nDocument 1 : Fred Olen Ray\\nFred Olen Ray (born September 10, 1954) is an American film director, producer, screenwriter, actor, and cinematographer.\\n\\nDocument 2 : R. G. Springsteen\\nRobert G. Springsteen (September 8, 1904 \\u2013 December 9, 1989) was an American director of Hollywood B movies and television shows.\\nHe was most often credited on screen as R. G. Springsteen.\\n\\n<Output format>\\n## Question : What profession do Fred Olen Ray and R. G. Springsteen have in common?\\n## Answer : director\\n## Supporting fact :\\nFred Olen Ray (born September 10, 1954) is an American film director, producer, screenwriter, actor, and cinematographer.\\nRobert G. Springsteen (September 8, 1904 \\u2013 December 9, 1989) was an American director of Hollywood B movies and television shows.\\n\\n<Reference documents>\\nDocument 1 : Holcus\\nHolcus (soft-grass or velvetgrass) is a genus of African and Eurasian plants in the oat tribe within the grass family.\\n\\nDocument 2 : Limonium\\nLimonium is a genus of 120 flowering plant species.\\nMembers are also known as sea-lavender, statice, caspia or marsh-rosemary.\\nDespite their common names, species are not related to the lavenders or to rosemary.\\nThey are instead in Plumbaginaceae, the plumbago or leadwort family.\\n\\n<Output format>\\n## Question : Do both Holcus and Limonium belong to the same taxonomic category?\\n## Answer : yes\\n## Supporting fact :\\nHolcus (soft-grass or velvetgrass) is a genus of African and Eurasian plants in the oat tribe within the grass family.\\nLimonium is a genus of 120 flowering plant species.\\n\\n<Instruction>\\nI would like to request you to make an answer for the following question. The answer should be searched from the reference documents (some of which might be irrelevant).\\nI also request you to provide supporting facts of the answer that is exactly extracted from the reference document. Supporting fact refers to a sentence that is necessary to infer the answer of the question. The number of supporting facts can be one or more.\\nPlease provide answer and supporting facts in the output format at the bottom.\")"
   ]
  },
  {
   "cell_type": "code",
   "execution_count": 3,
   "metadata": {},
   "outputs": [
    {
     "name": "stdout",
     "output_type": "stream",
     "text": [
      "<Reference documents>\n",
      "\n",
      "Document 1 : The President's Mystery\n",
      "The President's Mystery is a 1936 American film directed by Phil Rosen.\n",
      "\n",
      "Document 2 : I Killed That Man\n",
      "I Killed That Man is a 1941 American film directed by Phil Rosen that was a remake of his 1933 film \"The Devil's Mate\". It starred Ricardo Cortez and was produced by the King Brothers.\n",
      "\n",
      "Document 3 : Beggars in Ermine\n",
      "Beggars in Ermine is a 1934 American film directed by Phil Rosen.\n",
      "\n",
      "Document 4 : Paul Bogart\n",
      "Paul Bogart (November 21, 1919 – April 15, 2012) was an American television and film director and producer.\n",
      "\n",
      "Document 5 : Born to Gamble\n",
      "Born to Gamble (1935) is an American film directed by Phil Rosen and released by Republic Pictures.\n",
      "\n",
      "Document 6 : Phil Rosen\n",
      "Phil Rosen (May 8, 1888 – October 22, 1951) was an American film director and cinematographer. He directed 142 films between 1915 and 1949.\n",
      "\n",
      "Document 7 : The Scarlet Clue\n",
      "The Scarlet Clue is a 1945 American film directed by Phil Rosen.\n",
      "\n",
      "Document 8 : Road to Happiness\n",
      "Road to Happiness is a 1942 American film directed by Phil Rosen.\n",
      "\n",
      "Document 9 : Roar of the Press\n",
      "Roar of the Press is a 1941 American film directed by Phil Rosen.\n",
      "\n",
      "Document 10 : Paper Bullets\n",
      "Paper Bullets is a 1941 American film directed by Phil Rosen and starring Joan Woodbury. It was the first film produced by the King Brothers, launching their career.\n",
      "\n",
      "\n",
      "<Output format>\n",
      "## Question : Are Phil Rosen and Paul Bogart American film directors?\n",
      "## Answer : \n",
      "## Supporting fact : \n"
     ]
    }
   ],
   "source": [
    "print(\"<Reference documents>\\n\\nDocument 1 : The President's Mystery\\nThe President's Mystery is a 1936 American film directed by Phil Rosen.\\n\\nDocument 2 : I Killed That Man\\nI Killed That Man is a 1941 American film directed by Phil Rosen that was a remake of his 1933 film \\\"The Devil's Mate\\\". It starred Ricardo Cortez and was produced by the King Brothers.\\n\\nDocument 3 : Beggars in Ermine\\nBeggars in Ermine is a 1934 American film directed by Phil Rosen.\\n\\nDocument 4 : Paul Bogart\\nPaul Bogart (November 21, 1919 – April 15, 2012) was an American television and film director and producer.\\n\\nDocument 5 : Born to Gamble\\nBorn to Gamble (1935) is an American film directed by Phil Rosen and released by Republic Pictures.\\n\\nDocument 6 : Phil Rosen\\nPhil Rosen (May 8, 1888 – October 22, 1951) was an American film director and cinematographer. He directed 142 films between 1915 and 1949.\\n\\nDocument 7 : The Scarlet Clue\\nThe Scarlet Clue is a 1945 American film directed by Phil Rosen.\\n\\nDocument 8 : Road to Happiness\\nRoad to Happiness is a 1942 American film directed by Phil Rosen.\\n\\nDocument 9 : Roar of the Press\\nRoar of the Press is a 1941 American film directed by Phil Rosen.\\n\\nDocument 10 : Paper Bullets\\nPaper Bullets is a 1941 American film directed by Phil Rosen and starring Joan Woodbury. It was the first film produced by the King Brothers, launching their career.\\n\\n\\n<Output format>\\n## Question : Are Phil Rosen and Paul Bogart American film directors?\\n## Answer : \\n## Supporting fact : \")"
   ]
  },
  {
   "cell_type": "code",
   "execution_count": 4,
   "metadata": {},
   "outputs": [
    {
     "name": "stdout",
     "output_type": "stream",
     "text": [
      "Here are examples.\n",
      "\n",
      "<Reference documents>\n",
      "Document 1 : Fred Olen Ray\n",
      "[1] Fred Olen Ray (born September 10, 1954) is an American film director, producer, screenwriter, actor, and cinematographer.\n",
      "\n",
      "Document 2 : R. G. Springsteen\n",
      "[2] Robert G. Springsteen (September 8, 1904 – December 9, 1989) was an American director of Hollywood B movies and television shows.\n",
      "[3]  He was most often credited on screen as R. G. Springsteen.\n",
      "\n",
      "<Output format>\n",
      "## Question : What profession do Fred Olen Ray and R. G. Springsteen have in common?\n",
      "## Answer : director\n",
      "## Supporting fact index : 1, 2\n",
      "\n",
      "Document 2 : Limonium\n",
      "[2] Limonium is a genus of 120 flowering plant species.\n",
      "[3] Members are also known as sea-lavender, statice, caspia or marsh-rosemary.\n",
      "[4] Despite their common names, species are not related to the lavenders or to rosemary.\n",
      "[5] They are instead in Plumbaginaceae, the plumbago or leadwort family.\n",
      "\n",
      "<Instruction>\n",
      "I would like to request you to make an answer for the following question. The answer should be searched from the reference documents (some of which might be irrelevant).\n",
      "I also request you to provide the index of supporting facts of the answer. Supporting fact refers to a sentence that is necessary to infer the answer of the question. The number of supporting facts can be one or more.\n",
      "Please provide answer and supporting fact index in the output format at the bottom.\n"
     ]
    }
   ],
   "source": [
    "print(\"Here are examples.\\n\\n<Reference documents>\\nDocument 1 : Fred Olen Ray\\n[1] Fred Olen Ray (born September 10, 1954) is an American film director, producer, screenwriter, actor, and cinematographer.\\n\\nDocument 2 : R. G. Springsteen\\n[2] Robert G. Springsteen (September 8, 1904 – December 9, 1989) was an American director of Hollywood B movies and television shows.\\n[3]  He was most often credited on screen as R. G. Springsteen.\\n\\n<Output format>\\n## Question : What profession do Fred Olen Ray and R. G. Springsteen have in common?\\n## Answer : director\\n## Supporting fact index : 1, 2\\n\\nDocument 2 : Limonium\\n[2] Limonium is a genus of 120 flowering plant species.\\n[3] Members are also known as sea-lavender, statice, caspia or marsh-rosemary.\\n[4] Despite their common names, species are not related to the lavenders or to rosemary.\\n[5] They are instead in Plumbaginaceae, the plumbago or leadwort family.\\n\\n<Instruction>\\nI would like to request you to make an answer for the following question. The answer should be searched from the reference documents (some of which might be irrelevant).\\nI also request you to provide the index of supporting facts of the answer. Supporting fact refers to a sentence that is necessary to infer the answer of the question. The number of supporting facts can be one or more.\\nPlease provide answer and supporting fact index in the output format at the bottom.\")"
   ]
  },
  {
   "cell_type": "code",
   "execution_count": 5,
   "metadata": {},
   "outputs": [
    {
     "name": "stdout",
     "output_type": "stream",
     "text": [
      "Here are examples.\n",
      "\n",
      "<Reference documents>\n",
      "Document 1 : Fred Olen Ray\n",
      "[1] Fred Olen Ray (born September 10, 1954) is an American film director, producer, screenwriter, actor, and cinematographer.\n",
      "\n",
      "Document 2 : R. G. Springsteen\n",
      "[2] Robert G. Springsteen (September 8, 1904 – December 9, 1989) was an American director of Hollywood B movies and television shows.\n",
      "[3]  He was most often credited on screen as R. G. Springsteen.\n",
      "\n",
      "<Output format>\n",
      "## Question : What profession do Fred Olen Ray and R. G. Springsteen have in common?\n",
      "## Answer : director\n",
      "## Supporting fact index : 1, 2\n",
      "\n",
      "Document 2 : Limonium\n",
      "[2] Limonium is a genus of 120 flowering plant species.\n",
      "[3] Members are also known as sea-lavender, statice, caspia or marsh-rosemary.\n",
      "[4] Despite their common names, species are not related to the lavenders or to rosemary.\n",
      "[5] They are instead in Plumbaginaceae, the plumbago or leadwort family.\n",
      "\n",
      "<Output format>\n",
      "## Question : Do both Holcus and Limonium belong to the same taxonomic category?\n",
      "## Answer : yes\n",
      "## Supporting fact index : 1, 2\n",
      "\n",
      "<Instruction>\n",
      "I would like to request you to make an answer for the following question. The answer should be searched from the reference documents (some of which might be irrelevant).\n",
      "I also request you to provide the index of supporting facts of the answer. Supporting fact refers to a sentence that is necessary to infer the answer of the question. The number of supporting facts can be one or more.\n",
      "Please provide answer and supporting fact index in the output format at the bottom.\n"
     ]
    }
   ],
   "source": [
    "print(\"Here are examples.\\n\\n<Reference documents>\\nDocument 1 : Fred Olen Ray\\n[1] Fred Olen Ray (born September 10, 1954) is an American film director, producer, screenwriter, actor, and cinematographer.\\n\\nDocument 2 : R. G. Springsteen\\n[2] Robert G. Springsteen (September 8, 1904 – December 9, 1989) was an American director of Hollywood B movies and television shows.\\n[3]  He was most often credited on screen as R. G. Springsteen.\\n\\n<Output format>\\n## Question : What profession do Fred Olen Ray and R. G. Springsteen have in common?\\n## Answer : director\\n## Supporting fact index : 1, 2\\n\\nDocument 2 : Limonium\\n[2] Limonium is a genus of 120 flowering plant species.\\n[3] Members are also known as sea-lavender, statice, caspia or marsh-rosemary.\\n[4] Despite their common names, species are not related to the lavenders or to rosemary.\\n[5] They are instead in Plumbaginaceae, the plumbago or leadwort family.\\n\\n<Output format>\\n## Question : Do both Holcus and Limonium belong to the same taxonomic category?\\n## Answer : yes\\n## Supporting fact index : 1, 2\\n\\n<Instruction>\\nI would like to request you to make an answer for the following question. The answer should be searched from the reference documents (some of which might be irrelevant).\\nI also request you to provide the index of supporting facts of the answer. Supporting fact refers to a sentence that is necessary to infer the answer of the question. The number of supporting facts can be one or more.\\nPlease provide answer and supporting fact index in the output format at the bottom.\")"
   ]
  },
  {
   "cell_type": "code",
   "execution_count": 6,
   "metadata": {},
   "outputs": [
    {
     "ename": "SyntaxError",
     "evalue": "unterminated string literal (detected at line 1) (4161625149.py, line 1)",
     "output_type": "error",
     "traceback": [
      "\u001b[1;36m  Cell \u001b[1;32mIn[6], line 1\u001b[1;36m\u001b[0m\n\u001b[1;33m    print(\"<Reference documents>\u001b[0m\n\u001b[1;37m          ^\u001b[0m\n\u001b[1;31mSyntaxError\u001b[0m\u001b[1;31m:\u001b[0m unterminated string literal (detected at line 1)\n"
     ]
    }
   ],
   "source": [
    "print(\"\")"
   ]
  },
  {
   "cell_type": "code",
   "execution_count": 10,
   "metadata": {},
   "outputs": [
    {
     "name": "stdout",
     "output_type": "stream",
     "text": [
      "Here is an example.\n",
      "\n",
      "<Reference documents>\n",
      "Document 1 : Fred Olen Ray\n",
      "[1] Fred Olen Ray (born September 10, 1954) is an American film director, producer, screenwriter, actor, and cinematographer.\n",
      "\n",
      "Document 2 : R. G. Springsteen\n",
      "[2] Robert G. Springsteen (September 8, 1904 – December 9, 1989) was an American director of Hollywood B movies and television shows.\n",
      "[3]  He was most often credited on screen as R. G. Springsteen.\n",
      "\n",
      "<Output format>\n",
      "## Question : What profession do Fred Olen Ray and R. G. Springsteen have in common?\n",
      "## Answer : director\n",
      "## Supporting fact index : 1, 2\n",
      "\n",
      "<Instruction>\n",
      "I would like to request you to make an answer for the following question. The answer should be searched from the reference documents (some of which might be irrelevant).\n",
      "I also request you to provide the index of supporting facts of the answer. Supporting fact refers to a sentence that is necessary to infer the answer of the question. The number of supporting facts can be one or more.\n",
      "Please provide answer and supporting fact index in the output format at the bottom.\n"
     ]
    }
   ],
   "source": [
    "print(\"Here is an example.\\n\\n<Reference documents>\\nDocument 1 : Fred Olen Ray\\n[1] Fred Olen Ray (born September 10, 1954) is an American film director, producer, screenwriter, actor, and cinematographer.\\n\\nDocument 2 : R. G. Springsteen\\n[2] Robert G. Springsteen (September 8, 1904 – December 9, 1989) was an American director of Hollywood B movies and television shows.\\n[3]  He was most often credited on screen as R. G. Springsteen.\\n\\n<Output format>\\n## Question : What profession do Fred Olen Ray and R. G. Springsteen have in common?\\n## Answer : director\\n## Supporting fact index : 1, 2\\n\\n<Instruction>\\nI would like to request you to make an answer for the following question. The answer should be searched from the reference documents (some of which might be irrelevant).\\nI also request you to provide the index of supporting facts of the answer. Supporting fact refers to a sentence that is necessary to infer the answer of the question. The number of supporting facts can be one or more.\\nPlease provide answer and supporting fact index in the output format at the bottom.\")"
   ]
  },
  {
   "cell_type": "code",
   "execution_count": null,
   "metadata": {},
   "outputs": [],
   "source": []
  }
 ],
 "metadata": {
  "kernelspec": {
   "display_name": "pythontest",
   "language": "python",
   "name": "python3"
  },
  "language_info": {
   "codemirror_mode": {
    "name": "ipython",
    "version": 3
   },
   "file_extension": ".py",
   "mimetype": "text/x-python",
   "name": "python",
   "nbconvert_exporter": "python",
   "pygments_lexer": "ipython3",
   "version": "3.12.2"
  }
 },
 "nbformat": 4,
 "nbformat_minor": 2
}
